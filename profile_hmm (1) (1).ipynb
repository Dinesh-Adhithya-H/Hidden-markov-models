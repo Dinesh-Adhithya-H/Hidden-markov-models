{
 "cells": [
  {
   "cell_type": "markdown",
   "metadata": {},
   "source": [
    "#  Construction of hmm profile using a set of sequences "
   ]
  },
  {
   "cell_type": "markdown",
   "metadata": {},
   "source": [
    "## states_define function outputs all hidden states in the profile hmm graph given length(sequence)-1 as input  , by sequence I mean a alignment ex. \"AT_GC_\""
   ]
  },
  {
   "cell_type": "code",
   "execution_count": 1,
   "metadata": {},
   "outputs": [],
   "source": [
    "def states_define(nn):\n",
    "    hidden_states = [\"S0\", 'I0']\n",
    "    for i in range(nn):\n",
    "        hidden_states.append('M'+str(i+1))\n",
    "        hidden_states.append('D'+str(i+1))\n",
    "        hidden_states.append('I'+str(i+1))\n",
    "    hidden_states.append('E')\n",
    "    return hidden_states"
   ]
  },
  {
   "cell_type": "markdown",
   "metadata": {},
   "source": [
    "## Returns the index of a element from the array, the element is present in"
   ]
  },
  {
   "cell_type": "code",
   "execution_count": 2,
   "metadata": {},
   "outputs": [],
   "source": [
    "def where(a,b):\n",
    "    x=list(idx for idx, val in np.ndenumerate(a) if val==b)[0][0]\n",
    "    return(x)"
   ]
  },
  {
   "cell_type": "markdown",
   "metadata": {},
   "source": [
    "## counts the no. of gaps in each column from a array containing all the alignments , if the no. of gaps is greater than a particular threshold value it sets the array x at the same index as column to 0 and if no. of gaps is less than a threshold it sets it as 1."
   ]
  },
  {
   "cell_type": "code",
   "execution_count": 3,
   "metadata": {},
   "outputs": [],
   "source": [
    "import numpy as np\n",
    "def check(alignments,threshold):\n",
    "    ll=len(alignments[0])\n",
    "    x=np.ones(ll)\n",
    "    l=len(alignments)\n",
    "    for i in range(ll):\n",
    "        s=0\n",
    "        for j in range(l):\n",
    "            if alignments[j][i]==\"-\":\n",
    "                s+=1/l\n",
    "        if s>threshold:\n",
    "            x[i]=0.0\n",
    "    return(x)"
   ]
  },
  {
   "cell_type": "markdown",
   "metadata": {},
   "source": [
    "# construction of profile hmm, using alignments provided . every time a edge is traversed 1 is added to the edge of a profile hmm graph.Please refer to the image attached with the mail, where the process is pictorically explained. basically each alignment is a path in the graph "
   ]
  },
  {
   "cell_type": "code",
   "execution_count": 4,
   "metadata": {},
   "outputs": [],
   "source": [
    "import numpy as np\n",
    "def profile_hmm(observations,alignments,hidden_states,true_matrix):\n",
    "    trans_mat=np.zeros((len(hidden_states),len(hidden_states)))\n",
    "    emiss_mat=np.zeros((len(hidden_states),len(observations)))\n",
    "    length=len(alignments[0])\n",
    "    for seq in alignments:\n",
    "        cur_hidden_state=\"S0\"\n",
    "        for i in range(length):\n",
    "            if true_matrix[i]:\n",
    "                if seq[i] in observations:\n",
    "                    new_hidden_state=\"M\"+str(int(cur_hidden_state[1:])+1)\n",
    "                    trans_mat[where(hidden_states,cur_hidden_state)][where(hidden_states,new_hidden_state)]+=1\n",
    "                    emiss_mat[where(hidden_states,new_hidden_state)][where(observations,seq[i])]+=1\n",
    "                    cur_hidden_state=new_hidden_state\n",
    "                else:\n",
    "                    new_hidden_state = 'D'+str(int(cur_hidden_state[1:])+1)\n",
    "                    trans_mat[where(hidden_states,cur_hidden_state)][where(hidden_states,new_hidden_state)] += 1\n",
    "                    cur_hidden_state = new_hidden_state     \n",
    "            else:\n",
    "                if seq[i] in observations:\n",
    "                    new_hidden_state = 'I'+str(int(cur_hidden_state[1:]))\n",
    "                    trans_mat[where(hidden_states,cur_hidden_state)][where(hidden_states,new_hidden_state)] += 1\n",
    "                    emiss_mat[where(hidden_states,new_hidden_state)][where(observations,seq[i])] += 1\n",
    "                    cur_hidden_state = new_hidden_state\n",
    "        new_hidden_state = 'E'\n",
    "        trans_mat[where(hidden_states,cur_hidden_state)][where(hidden_states,new_hidden_state)] += 1\n",
    "    return trans_mat, emiss_mat   "
   ]
  },
  {
   "cell_type": "markdown",
   "metadata": {},
   "source": [
    "# adds puedocount and normailzation "
   ]
  },
  {
   "cell_type": "code",
   "execution_count": 5,
   "metadata": {},
   "outputs": [],
   "source": [
    "def add_pseudo(hid, inc, trans, emit, pseud):\n",
    "    for index, item in enumerate(hid):\n",
    "        if item == 'E':\n",
    "            continue\n",
    "        if item[0] in ['I', 'M']:\n",
    "            new = [x+pseud for x in emit[index]]\n",
    "            emit[index] = new\n",
    "        s = item[1:]\n",
    "        if int(s) < inc:\n",
    "            possible_moves = ['I'+s, 'M'+str(int(s)+1), 'D'+str(int(s)+1)]\n",
    "            for new_item in possible_moves:\n",
    "                trans[index][where(hid,new_item)] += pseud\n",
    "        elif int(s) == inc:\n",
    "            possible_moves = ['I'+s, 'E']\n",
    "            for new_item in possible_moves:\n",
    "                trans[index][where(hid,new_item)] += pseud\n",
    "    for i, line in enumerate(trans):\n",
    "        s = sum(line)\n",
    "        if s > 0:\n",
    "            normalized = [x/s for x in line]\n",
    "            trans[i] = normalized\n",
    "\n",
    "    for i, line in enumerate(emit):\n",
    "        s = sum(line)\n",
    "        if s > 0:\n",
    "            normalized = [x/s for x in line]\n",
    "            emit[i] = normalized\n",
    "    return trans, emit"
   ]
  },
  {
   "cell_type": "code",
   "execution_count": 79,
   "metadata": {},
   "outputs": [],
   "source": [
    "def add_pseudo(hid, inc, trans, emit, pseud):\n",
    "    for i, line in enumerate(trans):\n",
    "        s = sum(line)\n",
    "        if s > 0:\n",
    "            normalized = [x/s for x in line]\n",
    "            trans[i] = normalized\n",
    "\n",
    "    for i, line in enumerate(emit):\n",
    "        s = sum(line)\n",
    "        if s > 0:\n",
    "            normalized = [x/s for x in line]\n",
    "            emit[i] = normalized\n",
    "\n",
    "    for index, item in enumerate(hid):\n",
    "        if item == 'E':\n",
    "            continue\n",
    "        if item[0] in ['I', 'M']:\n",
    "            new = [x+pseud for x in emit[index]]\n",
    "            emit[index] = new\n",
    "        s = item[1:]\n",
    "        if int(s) < inc:\n",
    "            possible_moves = ['I'+s, 'M'+str(int(s)+1), 'D'+str(int(s)+1)]\n",
    "            for new_item in possible_moves:\n",
    "                trans[index][hid.index(new_item)] += pseud\n",
    "        elif int(s) == inc:\n",
    "            possible_moves = ['I'+s, 'E']\n",
    "            for new_item in possible_moves:\n",
    "                trans[index][hid.index(new_item)] += pseud\n",
    "    return trans, emit"
   ]
  },
  {
   "cell_type": "markdown",
   "metadata": {},
   "source": [
    "# viterbi algorithm for profile hmm"
   ]
  },
  {
   "cell_type": "code",
   "execution_count": 6,
   "metadata": {},
   "outputs": [],
   "source": [
    "from math import log10\n",
    "from operator import itemgetter\n",
    "from copy import copy\n",
    "def generate_viterbi(sequence, inc, hid, tran, emit,states):\n",
    "    viterbi = list()\n",
    "    column = dict()\n",
    "    column['S0'] = (0, 0, 'Source')\n",
    "    column['D1'] = (log10(tran[hid.index('S0')][hid.index('D1')]), 0, 'S0')\n",
    "    for i in range(1, inc+1):\n",
    "        column['D'+str(i+1)] = (log10(tran[hid.index('D'+str(i))][hid.index('D'+str(i+1))]) + column['D'+str(i)][0], 0, 'D'+str(i))\n",
    "    viterbi.append(copy(column))\n",
    "    for j, lett in enumerate(sequence):\n",
    "        column = dict()\n",
    "        if not j:\n",
    "            column['I0'] = (log10(tran[hid.index('S0')][hid.index('I0')]) + log10(emit[hid.index('I0')][states.index(lett)]), 0, 'S0')\n",
    "            column['M1'] = (log10(tran[hid.index('S0')][hid.index('M1')]) + log10(emit[hid.index('M1')][states.index(lett)]), 0, 'S0')\n",
    "            column['D1'] = (column['I0'][0] + log10(tran[hid.index('I0')][hid.index('D1')]), 1, 'I0')\n",
    "            for stat in hid[4:-1]:\n",
    "                l = stat[0]\n",
    "                ind = int(stat[1:])\n",
    "                if l == 'I':\n",
    "                    fath = 'D'+str(ind)\n",
    "                    column[stat] = (viterbi[j][fath][0] + log10(tran[hid.index(fath)][hid.index(stat)]) + log10(emit[hid.index(stat)][states.index(lett)]), 0, fath)\n",
    "                if l == 'M':\n",
    "                    fath = 'D'+str(ind-1)\n",
    "                    column[stat] = (viterbi[j][fath][0] + log10(tran[hid.index(fath)][hid.index(stat)]) + log10(emit[hid.index(stat)][states.index(lett)]), 0, fath)\n",
    "                if l == 'D':\n",
    "                    temp = str(ind-1)\n",
    "                    fathers = [tt+temp for tt in ['I', 'M', 'D']]\n",
    "                    proba = [(column[fath][0] + log10(tran[hid.index(fath)][hid.index(stat)]), j+1, fath) for fath in fathers]\n",
    "                    column[stat] = max(proba, key=itemgetter(0))\n",
    "            viterbi.append(copy(column))\n",
    "        else:\n",
    "            column['I0'] = (viterbi[j]['I0'][0] + log10(tran[hid.index('I0')][hid.index('I0')]) + log10(emit[hid.index('I0')][states.index(lett)]), j, 'I0')\n",
    "            column['M1'] = (viterbi[j]['I0'][0] + log10(tran[hid.index('I0')][hid.index('M1')]) + log10(emit[hid.index('M1')][states.index(lett)]), j, 'I0')\n",
    "            column['D1'] = (column['I0'][0] + log10(tran[hid.index('I0')][hid.index('D1')]), 1, 'I0')\n",
    "            for stat in hid[4:-1]:\n",
    "                l = stat[0]\n",
    "                ind = int(stat[1:])\n",
    "                if l == 'I':\n",
    "                    temp = str(ind)\n",
    "                    fathers = [tt+temp for tt in ['I', 'M', 'D']]\n",
    "                    proba = [(viterbi[j][fath][0] + log10(tran[hid.index(fath)][hid.index(stat)]) + log10(emit[hid.index(stat)][states.index(lett)]), j, fath) for fath in fathers]\n",
    "                if l == 'M':\n",
    "                    temp = str(ind-1)\n",
    "                    fathers = [tt+temp for tt in ['I', 'M', 'D']]\n",
    "                    proba = [(viterbi[j][fath][0] + log10(tran[hid.index(fath)][hid.index(stat)]) + log10(emit[hid.index(stat)][states.index(lett)]), j, fath) for fath in fathers]\n",
    "                if l == 'D':\n",
    "                    temp = str(ind-1)\n",
    "                    fathers = [tt+temp for tt in ['I', 'M', 'D']]\n",
    "                    proba = [(column[fath][0] + log10(tran[hid.index(fath)][hid.index(stat)]), j+1, fath) for fath in fathers]\n",
    "                column[stat] = max(proba, key=itemgetter(0))\n",
    "            viterbi.append(copy(column))\n",
    "    return viterbi"
   ]
  },
  {
   "cell_type": "code",
   "execution_count": 45,
   "metadata": {},
   "outputs": [],
   "source": [
    "ali=np.array([\"ATGC\",\"ATGC\",\"AT-C\",\"ATGG\",\"AT--\",\"-TGC\",\"AAGC\",\"ATTC\",\"ATCC\",\"ATGC\",\"ATGC\"])"
   ]
  },
  {
   "cell_type": "code",
   "execution_count": 80,
   "metadata": {},
   "outputs": [],
   "source": [
    "xx=[]\n",
    "for i in ali:\n",
    "    x=[]\n",
    "    for j in range(len(ali[0])):\n",
    "        x.append(i[j])\n",
    "    xx.append(x)"
   ]
  },
  {
   "cell_type": "code",
   "execution_count": 48,
   "metadata": {},
   "outputs": [
    {
     "name": "stdout",
     "output_type": "stream",
     "text": [
      "I0 D1 M2 M3 M4\n"
     ]
    }
   ],
   "source": [
    "t=0.0 # the threshold \n",
    "\n",
    "obs=[\"A\",\"T\",\"G\",\"C\"] # observable states\n",
    "\n",
    "true_mat=check(xx,t) # truth matrix based on no. og gaps in each column of alignments array\n",
    "\n",
    "sta=states_define(len(xx[0])) # finds all hidden states in hmm profile array\n",
    "\n",
    "x,y=profile_hmm(obs,xx,sta,true_mat)\n",
    "\n",
    "x1,y1=add_pseudo(sta,len(xx[0]), x, y, 0.5)\n",
    "\n",
    "string=[\"A\",\"G\",\"C\",\"C\"]\n",
    "\n",
    "v=generate_viterbi(string,len(xx[0])-1, sta, x1, y1,obs)\n",
    "\n",
    "path = list()\n",
    "final_states = [tt+str(len(xx[0])) for tt in ['M', 'D', 'I']]\n",
    "proba = [(v[-1][fath][0] + log10(x1[sta.index(fath)][sta.index('E')]), len(string), fath) for fath in final_states]\n",
    "exit_state = max(proba, key=itemgetter(0))\n",
    "pointer = exit_state[1], exit_state[2]\n",
    "while True:\n",
    "    path.append(pointer[1])\n",
    "    back = v[pointer[0]][pointer[1]]\n",
    "    pointer = back[1], back[2]\n",
    "    if pointer[1] == 'S0':\n",
    "        break\n",
    "\n",
    "print(' '.join(path[::-1]))"
   ]
  },
  {
   "cell_type": "code",
   "execution_count": 51,
   "metadata": {},
   "outputs": [
    {
     "name": "stdout",
     "output_type": "stream",
     "text": [
      "M1 D2 M3 M4\n"
     ]
    }
   ],
   "source": [
    "t=0.205 # the threshold \n",
    "\n",
    "obs=[\"A\",\"T\",\"G\",\"C\"] # observable states\n",
    "\n",
    "true_mat=check(xx,t) # truth matrix based on no. og gaps in each column of alignments array\n",
    "\n",
    "sta=states_define(len(xx[0])) # finds all hidden states in hmm profile array\n",
    "\n",
    "x,y=profile_hmm(obs,xx,sta,true_mat)\n",
    "\n",
    "x1,y1=add_pseudo(sta,len(xx[0]), x, y, 0.5)\n",
    "\n",
    "string=[\"A\",\"G\",\"C\"] # one deletion\n",
    "\n",
    "v=generate_viterbi(string,len(xx[0])-1, sta, x1, y1,obs)\n",
    "\n",
    "path = list()\n",
    "final_states = [tt+str(len(xx[0])) for tt in ['M', 'D', 'I']]\n",
    "proba = [(v[-1][fath][0] + log10(x1[sta.index(fath)][sta.index('E')]), len(string), fath) for fath in final_states]\n",
    "exit_state = max(proba, key=itemgetter(0))\n",
    "pointer = exit_state[1], exit_state[2]\n",
    "while True:\n",
    "    path.append(pointer[1])\n",
    "    back = v[pointer[0]][pointer[1]]\n",
    "    pointer = back[1], back[2]\n",
    "    if pointer[1] == 'S0':\n",
    "        break\n",
    "\n",
    "print(' '.join(path[::-1]))"
   ]
  },
  {
   "cell_type": "code",
   "execution_count": 50,
   "metadata": {},
   "outputs": [
    {
     "name": "stdout",
     "output_type": "stream",
     "text": [
      "M1 M2 M3 M4 I4\n"
     ]
    }
   ],
   "source": [
    "t=0.5 # the threshold \n",
    "\n",
    "obs=[\"A\",\"T\",\"G\",\"C\"] # observable states\n",
    "\n",
    "true_mat=check(xx,t) # truth matrix based on no. og gaps in each column of alignments array\n",
    "\n",
    "sta=states_define(len(xx[0])) # finds all hidden states in hmm profile array\n",
    "\n",
    "x,y=profile_hmm(obs,xx,sta,true_mat)\n",
    "\n",
    "x1,y1=add_pseudo(sta,len(xx[0]), x, y, 0.5)\n",
    "\n",
    "string=[\"T\",\"A\",\"T\",\"G\",\"C\"]# one insertion made\n",
    "\n",
    "v=generate_viterbi(string,len(xx[0])-1, sta, x1, y1,obs)\n",
    "\n",
    "path = list()\n",
    "final_states = [tt+str(len(xx[0])) for tt in ['M', 'D', 'I']]\n",
    "proba = [(v[-1][fath][0] + log10(x1[sta.index(fath)][sta.index('E')]), len(string), fath) for fath in final_states]\n",
    "exit_state = max(proba, key=itemgetter(0))\n",
    "pointer = exit_state[1], exit_state[2]\n",
    "while True:\n",
    "    path.append(pointer[1])\n",
    "    back = v[pointer[0]][pointer[1]]\n",
    "    pointer = back[1], back[2]\n",
    "    if pointer[1] == 'S0':\n",
    "        break\n",
    "\n",
    "print(' '.join(path[::-1]))"
   ]
  },
  {
   "cell_type": "code",
   "execution_count": 81,
   "metadata": {},
   "outputs": [
    {
     "name": "stdout",
     "output_type": "stream",
     "text": [
      "M1 M2 M3 M4 M5 M6 M7 M8 M9 M10 M11 M12 M13 M14 M15 M16 M17 M18 M19 M20 M21 M22 M23 I23 M24 M25 M26 I26 I26 M27 M28 M29 M30 M31 M32 M33 M34 I34 M35 M36 M37 M38 I38 M39 M40 D41 M42 M43 M44 D45 D46 D47 D48 M49\n"
     ]
    }
   ],
   "source": [
    "ali=np.array([\"EEBBA--C-DBAA-AECD--BDB---CC-DDCBBCEDE-EBB-DAEE-C\",\n",
    "\"EEEEABBCEABBCDEE-DAEBDBAEDC-BDBCB--C-B-BCA-DAEECA\",\n",
    "\"--CEB-ACCDEACEEEEDBEED-ADBCCDAC--BC--BDBCAEDAEECC\",\n",
    "\"A--AABDCE-A-CD-ECD-EBBA-EDC-DACCBBCCD-D-BA-DAAEBC\",\n",
    "\"EECEAB--EDDACCE-CD-E--B-EDCCD-CCBBCCD-DBBA--AE-CA\",\n",
    "\"E-CDA-DCECAAECB-CDCEB-B-BDCCD---B--CD-DBCDBDAEB-C\",\n",
    "\"EBCEAEDC-DABC--A-DCEDDBAED-CD-CCBBCCEBDB--BEA-EEC\",\n",
    "\"AC-E-BDCEDAADDEECDEEB-CAEDC-DD-CBBCCD-DBCABDAEECC\",\n",
    "\"EECBABDCEDEAEC-DCDC-BDBDEDA-D-AD-A-EABEB--BDA-ECC\"])\n",
    "\n",
    "xx=[]\n",
    "for i in ali:\n",
    "    x=[]\n",
    "    for j in range(len(ali[0])):\n",
    "        x.append(i[j])\n",
    "    xx.append(x)\n",
    "\n",
    "t=0.359# the threshold \n",
    "\n",
    "obs=[\"A\",\"B\",\"C\",\"D\",\"E\"] # observable states\n",
    "\n",
    "true_mat=check(xx,t) # truth matrix based on no. og gaps in each column of alignments array\n",
    "\n",
    "sta=states_define(len(xx[0])) # finds all hidden states in hmm profile array\n",
    "\n",
    "x,y=profile_hmm(obs,xx,sta,true_mat)\n",
    "\n",
    "x1,y1=add_pseudo(sta,len(xx[0]), x, y, 0.01)\n",
    "\n",
    "string=[]\n",
    "string1=\"EEBEABDCEEABCCCEEBDEDCADEDACCDCBBEECDBDACABDADCBE\"# one insertion made\n",
    "for i in string1:\n",
    "    string.append(i)\n",
    "    \n",
    "v=generate_viterbi(string,len(xx[0])-1, sta, x1, y1,obs)\n",
    "\n",
    "path = list()\n",
    "final_states = [tt+str(len(xx[0])) for tt in ['M', 'D', 'I']]\n",
    "proba = [(v[-1][fath][0] + log10(x1[sta.index(fath)][sta.index('E')]), len(string), fath) for fath in final_states]\n",
    "exit_state = max(proba, key=itemgetter(0))\n",
    "pointer = exit_state[1], exit_state[2]\n",
    "while True:\n",
    "    path.append(pointer[1])\n",
    "    back = v[pointer[0]][pointer[1]]\n",
    "    pointer = back[1], back[2]\n",
    "    if pointer[1] == 'S0':\n",
    "        break\n",
    "\n",
    "print(' '.join(path[::-1]))"
   ]
  },
  {
   "cell_type": "code",
   "execution_count": 75,
   "metadata": {},
   "outputs": [
    {
     "data": {
      "text/plain": [
       "49"
      ]
     },
     "execution_count": 75,
     "metadata": {},
     "output_type": "execute_result"
    }
   ],
   "source": [
    "len(xx[0])"
   ]
  },
  {
   "cell_type": "code",
   "execution_count": 76,
   "metadata": {},
   "outputs": [
    {
     "data": {
      "text/plain": [
       "49"
      ]
     },
     "execution_count": 76,
     "metadata": {},
     "output_type": "execute_result"
    }
   ],
   "source": [
    "len(string)"
   ]
  },
  {
   "cell_type": "code",
   "execution_count": 82,
   "metadata": {},
   "outputs": [
    {
     "data": {
      "text/plain": [
       "array([[0.        , 0.01      , 0.89888889, ..., 0.        , 0.        ,\n",
       "        0.        ],\n",
       "       [0.        , 0.01      , 0.01      , ..., 0.        , 0.        ,\n",
       "        0.        ],\n",
       "       [0.        , 0.        , 0.        , ..., 0.        , 0.        ,\n",
       "        0.        ],\n",
       "       ...,\n",
       "       [0.        , 0.        , 0.        , ..., 0.        , 0.01      ,\n",
       "        0.01      ],\n",
       "       [0.        , 0.        , 0.        , ..., 0.        , 0.01      ,\n",
       "        0.01      ],\n",
       "       [0.        , 0.        , 0.        , ..., 0.        , 0.        ,\n",
       "        0.        ]])"
      ]
     },
     "execution_count": 82,
     "metadata": {},
     "output_type": "execute_result"
    }
   ],
   "source": [
    "x1"
   ]
  },
  {
   "cell_type": "code",
   "execution_count": null,
   "metadata": {},
   "outputs": [],
   "source": []
  }
 ],
 "metadata": {
  "kernelspec": {
   "display_name": "Python 3",
   "language": "python",
   "name": "python3"
  },
  "language_info": {
   "codemirror_mode": {
    "name": "ipython",
    "version": 3
   },
   "file_extension": ".py",
   "mimetype": "text/x-python",
   "name": "python",
   "nbconvert_exporter": "python",
   "pygments_lexer": "ipython3",
   "version": "3.7.6"
  }
 },
 "nbformat": 4,
 "nbformat_minor": 4
}
