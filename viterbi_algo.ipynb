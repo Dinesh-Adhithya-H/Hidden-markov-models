{
 "cells": [
  {
   "cell_type": "code",
   "execution_count": 1,
   "metadata": {},
   "outputs": [],
   "source": [
    "import numpy as np\n",
    "def viterbi(pi,trans_matrix,emiss_matrix,string):\n",
    "    # Pi is starting probability , we will assume all states are equally probable\n",
    "    # trans_matrix is the transition matrix\n",
    "    # emiss_matrix is emission matrix\n",
    "    # string has all the observables\n",
    "    no_of_states=np.shape(emiss_matrix)[0]\n",
    "    string_length=np.shape(string)[0]\n",
    "    # initiation of a blank path\n",
    "    path=np.zeros(string_length,dtype=int)\n",
    "    # viterbi matrix , contains the highest probability of any path that reaches a state i\n",
    "    viterbi_matrix=np.zeros((no_of_states,string_length))\n",
    "    # argmax matrix, that contains the argmax of each state , can be thought as a pointer matrix\n",
    "    pointer_matrix=np.zeros((no_of_states,string_length))\n",
    "    #initialization of pointer an dviterbi matrix\n",
    "    viterbi_matrix[:,0]=pi*emiss_matrix[:,string[0]]\n",
    "    pointer_matrix[:,0]=0\n",
    "    # forward algorithm \n",
    "    for i in range(1,string_length):\n",
    "        for j in range(no_of_states):\n",
    "            viterbi_matrix[j,i]=np.max(viterbi_matrix[:,i-1]*trans_matrix[:,j])*emiss_matrix[j,string[i]]\n",
    "            pointer_matrix[j,i]=np.argmax(viterbi_matrix[:,i-1]*trans_matrix[:,j])\n",
    "    # using backtrack finding the best path\n",
    "    path[string_length-1]=np.argmax(viterbi_matrix[:,string_length-1])\n",
    "    for t in range(string_length-2,-1,-1):\n",
    "        path[t]=pointer_matrix[path[t+1],t+1]\n",
    "    return(path)"
   ]
  },
  {
   "cell_type": "code",
   "execution_count": 2,
   "metadata": {},
   "outputs": [],
   "source": [
    "from random import choices\n",
    "def hmm_gen(length,pi,trans_matrix,emiss_matrix):\n",
    "    obs=np.arange(np.shape(emiss_matrix)[1],dtype=int)\n",
    "    sta=np.arange(np.shape(emiss_matrix)[0],dtype=int)\n",
    "    string=np.zeros(length,dtype=int)\n",
    "    states=np.zeros(length,dtype=int)\n",
    "    states[0]=choices(sta,pi)[0]\n",
    "    string[0]=choices(obs,emiss_matrix[states[0]])[0]\n",
    "    for i in range(1,length):\n",
    "        states[i]=choices(sta,trans_matrix[states[i-1]])[0]\n",
    "        string[i]=choices(obs,emiss_matrix[states[i]])[0]\n",
    "    return string"
   ]
  },
  {
   "cell_type": "code",
   "execution_count": 3,
   "metadata": {},
   "outputs": [],
   "source": [
    "pi=np.array([0.5,0.5])\n",
    "t=np.array([[0.9,0.1],[0.2,0.8]])\n",
    "e=np.array([[0.5,0.5],[0.3,0.7]])\n",
    "l=400000"
   ]
  },
  {
   "cell_type": "code",
   "execution_count": 4,
   "metadata": {},
   "outputs": [
    {
     "name": "stdout",
     "output_type": "stream",
     "text": [
      "Wall time: 7.31 s\n"
     ]
    }
   ],
   "source": [
    "import time\n",
    "%time s=hmm_gen(l,pi,t,e)"
   ]
  },
  {
   "cell_type": "code",
   "execution_count": 5,
   "metadata": {},
   "outputs": [
    {
     "name": "stdout",
     "output_type": "stream",
     "text": [
      "Wall time: 23.5 s\n"
     ]
    },
    {
     "data": {
      "text/plain": [
       "array([0, 0, 0, ..., 0, 0, 0])"
      ]
     },
     "execution_count": 5,
     "metadata": {},
     "output_type": "execute_result"
    }
   ],
   "source": [
    "%time viterbi(pi,t,e,s)"
   ]
  },
  {
   "cell_type": "code",
   "execution_count": 8,
   "metadata": {},
   "outputs": [
    {
     "name": "stdout",
     "output_type": "stream",
     "text": [
      "Wall time: 15.3 s\n"
     ]
    }
   ],
   "source": [
    "%time s1=hmm_gen(800000,pi,t,e)"
   ]
  },
  {
   "cell_type": "code",
   "execution_count": 9,
   "metadata": {},
   "outputs": [
    {
     "name": "stdout",
     "output_type": "stream",
     "text": [
      "Wall time: 45.9 s\n"
     ]
    },
    {
     "data": {
      "text/plain": [
       "array([0, 0, 0, ..., 0, 0, 0])"
      ]
     },
     "execution_count": 9,
     "metadata": {},
     "output_type": "execute_result"
    }
   ],
   "source": [
    "%time viterbi(pi,t,e,s1)"
   ]
  },
  {
   "cell_type": "code",
   "execution_count": 19,
   "metadata": {},
   "outputs": [
    {
     "name": "stdout",
     "output_type": "stream",
     "text": [
      "Wall time: 7.43 ms\n"
     ]
    },
    {
     "data": {
      "text/plain": [
       "array([1, 1, 1, 1, 1, 1, 1, 1, 1, 1, 1, 1, 1, 1, 1, 1, 1, 0, 0, 0, 0, 0,\n",
       "       0, 0, 0, 0, 0, 0, 0, 0, 0, 0, 0, 0])"
      ]
     },
     "execution_count": 19,
     "metadata": {},
     "output_type": "execute_result"
    }
   ],
   "source": [
    "%time viterbi(pi,t,e,[1,1,1,1,1,1,1,1,1,1,1,1,1,1,1,1,1,0,0,0,0,0,0,0,0,0,0,1,1,1,1,1,0,0])"
   ]
  },
  {
   "cell_type": "code",
   "execution_count": null,
   "metadata": {},
   "outputs": [],
   "source": []
  }
 ],
 "metadata": {
  "kernelspec": {
   "display_name": "Python 3",
   "language": "python",
   "name": "python3"
  },
  "language_info": {
   "codemirror_mode": {
    "name": "ipython",
    "version": 3
   },
   "file_extension": ".py",
   "mimetype": "text/x-python",
   "name": "python",
   "nbconvert_exporter": "python",
   "pygments_lexer": "ipython3",
   "version": "3.7.6"
  }
 },
 "nbformat": 4,
 "nbformat_minor": 4
}
